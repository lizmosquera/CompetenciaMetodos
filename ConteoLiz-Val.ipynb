{
 "cells": [
  {
   "cell_type": "code",
   "execution_count": 2,
   "metadata": {},
   "outputs": [],
   "source": [
    "# pandas for data loading, manipulation etc.\n",
    "import pandas as pd\n",
    "\n",
    "\n",
    "# numeric functions\n",
    "import xgboost\n",
    "import numpy as np\n",
    "import collections\n",
    "import math\n",
    "import operator\n",
    "from scipy import stats\n",
    "from math import ceil\n",
    "import time\n",
    "import random as rnd\n",
    "\n",
    "# plotting\n",
    "import matplotlib.pyplot as plt\n",
    "import seaborn as sns\n",
    "import statsmodels.api as sm\n",
    "%matplotlib inline\n",
    "\n",
    "\n",
    "# modelling\n",
    "from collections import OrderedDict\n",
    "from sklearn.ensemble import RandomForestRegressor, GradientBoostingRegressor\n",
    "\n",
    "from sklearn.linear_model import LinearRegression, Lasso, Ridge, ElasticNet,Lars,LassoLars,SGDRegressor\n",
    "from sklearn.linear_model import RidgeCV, LassoCV,BayesianRidge, LogisticRegression\n",
    "from sklearn.model_selection import GridSearchCV, RepeatedKFold, cross_val_score,train_test_split,KFold\n",
    "from sklearn.metrics import make_scorer,r2_score,mean_squared_error,roc_auc_score, accuracy_score,explained_variance_score\n",
    "from sklearn.neighbors import KNeighborsRegressor #,KNearestNeighborsRegressor\n",
    "\n",
    "\n",
    "from sklearn.pipeline import Pipeline\n",
    "from sklearn.preprocessing import StandardScaler,PolynomialFeatures, minmax_scale\n",
    "from sklearn.svm import LinearSVR, SVR\n",
    "from sklearn.tree import DecisionTreeRegressor\n",
    "from sklearn.feature_selection import RFE,SelectFromModel\n",
    "from statsmodels.formula.api import poisson, negativebinomial\n",
    "\n",
    "import xgboost as xgb\n",
    "from xgboost import XGBRegressor\n",
    "\n",
    "import warnings\n",
    "#warnings.filterwarnings(\"ignore\")"
   ]
  },
  {
   "cell_type": "code",
   "execution_count": 3,
   "metadata": {},
   "outputs": [],
   "source": [
    "datos = pd.read_csv('datacountstudents.csv')\n",
    "datos = datos.iloc[:,1:]\n",
    "# prepare for modeling\n",
    "X = datos.drop(['yC'], axis=1)\n",
    "Y = datos['yC'].values"
   ]
  },
  {
   "cell_type": "code",
   "execution_count": 4,
   "metadata": {},
   "outputs": [
    {
     "name": "stdout",
     "output_type": "stream",
     "text": [
      "<class 'pandas.core.frame.DataFrame'>\n",
      "RangeIndex: 150 entries, 0 to 149\n",
      "Data columns (total 33 columns):\n",
      "yC     150 non-null int64\n",
      "x1     150 non-null float64\n",
      "x2     150 non-null float64\n",
      "x3     150 non-null int64\n",
      "x4     150 non-null int64\n",
      "x5     150 non-null int64\n",
      "x6     150 non-null int64\n",
      "x7     150 non-null int64\n",
      "x8     150 non-null float64\n",
      "x9     150 non-null int64\n",
      "x10    150 non-null float64\n",
      "x11    150 non-null float64\n",
      "x12    150 non-null float64\n",
      "x13    150 non-null int64\n",
      "x14    150 non-null int64\n",
      "x15    150 non-null int64\n",
      "x16    150 non-null int64\n",
      "x17    150 non-null int64\n",
      "x18    150 non-null int64\n",
      "x19    150 non-null int64\n",
      "x20    150 non-null int64\n",
      "x21    150 non-null float64\n",
      "x22    150 non-null float64\n",
      "x23    150 non-null float64\n",
      "x24    150 non-null float64\n",
      "x25    150 non-null int64\n",
      "x26    150 non-null int64\n",
      "x27    150 non-null float64\n",
      "x28    150 non-null int64\n",
      "x29    150 non-null int64\n",
      "x30    150 non-null int64\n",
      "x31    150 non-null float64\n",
      "x32    150 non-null float64\n",
      "dtypes: float64(13), int64(20)\n",
      "memory usage: 38.8 KB\n"
     ]
    }
   ],
   "source": [
    "datos.info()"
   ]
  },
  {
   "cell_type": "code",
   "execution_count": 5,
   "metadata": {},
   "outputs": [],
   "source": [
    "#dtype discrete to continuos for count variables \n",
    "datos = pd.read_csv('datacountstudents.csv', dtype={'x9':float,'x25':float,'x26':float,'x30':float})\n",
    "datos = datos.iloc[:,1:]"
   ]
  },
  {
   "cell_type": "code",
   "execution_count": 6,
   "metadata": {},
   "outputs": [],
   "source": [
    "X = datos.drop(['yC'], axis=1)\n",
    "y = datos['yC'].values\n",
    "# prepare for modeling\n",
    "X_train, X_test, y_train, y_test= train_test_split(X, y, test_size=0.4, random_state=101)\n",
    "\n",
    "X_test, X_val, y_test, y_val= train_test_split(X_test, y_test, test_size=0.5, random_state=101)"
   ]
  },
  {
   "cell_type": "code",
   "execution_count": 7,
   "metadata": {},
   "outputs": [],
   "source": [
    "#name of continuos variables\n",
    "train_C = X_train.select_dtypes(exclude=['int64'])\n",
    "Columns_C = X_train.columns[(X_train.dtypes.values == np.dtype('float64'))]\n",
    "#Columns_D = X_train.columns[(X_train.dtypes.values != np.dtype('float64'))]\n",
    "# Standardize only continuous training\n",
    "X_train_sc = X_train.copy()\n",
    "col_names = Columns_C[0:13]\n",
    "features_tr = X_train_sc[col_names]\n",
    "scaler = StandardScaler().fit(features_tr.values)\n",
    "features_tr = scaler.transform(features_tr.values)\n",
    "X_train_sc[col_names] = features_tr\n",
    "# Standardize only continuous testing\n",
    "X_test_sc = X_test.copy()\n",
    "features_ts = X_test_sc[col_names]\n",
    "features_ts = scaler.transform(features_ts.values)\n",
    "X_test_sc[col_names] = features_ts\n",
    "# standarice counting validation variables \n",
    "X_val_sc = X_val.copy()\n",
    "features_va = X_val_sc[col_names]\n",
    "features_va = scaler.transform(features_va.values)\n",
    "X_val_sc[col_names] = features_va\n",
    "#dataframes\n",
    "X_train_sc = pd.concat([X_train_sc], axis=1, sort=False)\n",
    "X_test_sc = pd.concat([X_test_sc], axis=1, sort=False)\n",
    "X_val_sc = pd.concat([X_val_sc], axis=1, sort=False)\n",
    "#X_train_sc.head()"
   ]
  },
  {
   "cell_type": "code",
   "execution_count": 9,
   "metadata": {},
   "outputs": [],
   "source": [
    "train_x=X_train_sc\n",
    "train_y=y_train   \n",
    "Xts = X_test_sc\n",
    "Yt = y_test"
   ]
  },
  {
   "cell_type": "code",
   "execution_count": 8,
   "metadata": {},
   "outputs": [],
   "source": [
    "#for tuning parameters\n",
    "parameters_for_testing = {\n",
    "    'colsample_bytree':[0.4,0.6,0.8],\n",
    "    'gamma':[0,0.03,0.1,0.3],\n",
    "    'min_child_weight':[1.5,6,10],\n",
    "    'learning_rate':[0.1,0.07],\n",
    "    'max_depth':[2,3,5],\n",
    "    'n_estimators':[10000],\n",
    "    'reg_alpha':[1e-5, 1e-2,  0.75],\n",
    "    'reg_lambda':[1e-5, 1e-2, 0.45],\n",
    "    'subsample':[0.6,0.95]  \n",
    "}"
   ]
  },
  {
   "cell_type": "markdown",
   "metadata": {},
   "source": [
    "#https://www.datacamp.com/community/tutorials/xgboost-in-python borrar"
   ]
  },
  {
   "cell_type": "code",
   "execution_count": 11,
   "metadata": {
    "scrolled": false
   },
   "outputs": [
    {
     "name": "stderr",
     "output_type": "stream",
     "text": [
      "C:\\Users\\lmosquera\\AppData\\Local\\Continuum\\anaconda3\\lib\\site-packages\\sklearn\\model_selection\\_split.py:1978: FutureWarning: The default value of cv will change from 3 to 5 in version 0.22. Specify it explicitly to silence this warning.\n",
      "  warnings.warn(CV_WARNING, FutureWarning)\n",
      "[Parallel(n_jobs=6)]: Using backend LokyBackend with 6 concurrent workers.\n"
     ]
    },
    {
     "name": "stdout",
     "output_type": "stream",
     "text": [
      "Fitting 3 folds for each of 3888 candidates, totalling 11664 fits\n"
     ]
    },
    {
     "name": "stderr",
     "output_type": "stream",
     "text": [
      "[Parallel(n_jobs=6)]: Done   1 tasks      | elapsed:   17.4s\n",
      "[Parallel(n_jobs=6)]: Done   6 tasks      | elapsed:   17.6s\n",
      "[Parallel(n_jobs=6)]: Done  13 tasks      | elapsed:   26.3s\n",
      "[Parallel(n_jobs=6)]: Done  20 tasks      | elapsed:   32.4s\n",
      "[Parallel(n_jobs=6)]: Done  29 tasks      | elapsed:   38.2s\n",
      "[Parallel(n_jobs=6)]: Done  38 tasks      | elapsed:   49.6s\n",
      "[Parallel(n_jobs=6)]: Done  49 tasks      | elapsed:  1.0min\n",
      "[Parallel(n_jobs=6)]: Done  60 tasks      | elapsed:  1.1min\n",
      "[Parallel(n_jobs=6)]: Done  73 tasks      | elapsed:  1.4min\n",
      "[Parallel(n_jobs=6)]: Done  86 tasks      | elapsed:  1.5min\n",
      "[Parallel(n_jobs=6)]: Done 101 tasks      | elapsed:  1.7min\n",
      "[Parallel(n_jobs=6)]: Done 116 tasks      | elapsed:  1.9min\n",
      "[Parallel(n_jobs=6)]: Done 133 tasks      | elapsed:  2.2min\n",
      "[Parallel(n_jobs=6)]: Done 150 tasks      | elapsed:  2.4min\n",
      "[Parallel(n_jobs=6)]: Done 169 tasks      | elapsed:  2.7min\n",
      "[Parallel(n_jobs=6)]: Done 188 tasks      | elapsed:  2.9min\n",
      "[Parallel(n_jobs=6)]: Done 209 tasks      | elapsed:  3.2min\n",
      "[Parallel(n_jobs=6)]: Done 230 tasks      | elapsed:  3.6min\n",
      "[Parallel(n_jobs=6)]: Done 253 tasks      | elapsed:  3.9min\n",
      "[Parallel(n_jobs=6)]: Done 276 tasks      | elapsed:  4.2min\n",
      "[Parallel(n_jobs=6)]: Done 301 tasks      | elapsed:  4.6min\n",
      "[Parallel(n_jobs=6)]: Done 326 tasks      | elapsed:  4.9min\n",
      "[Parallel(n_jobs=6)]: Done 353 tasks      | elapsed:  5.3min\n",
      "[Parallel(n_jobs=6)]: Done 380 tasks      | elapsed:  5.7min\n",
      "[Parallel(n_jobs=6)]: Done 409 tasks      | elapsed:  6.2min\n",
      "[Parallel(n_jobs=6)]: Done 438 tasks      | elapsed:  6.6min\n",
      "[Parallel(n_jobs=6)]: Done 469 tasks      | elapsed:  7.2min\n",
      "[Parallel(n_jobs=6)]: Done 500 tasks      | elapsed:  7.7min\n",
      "[Parallel(n_jobs=6)]: Done 533 tasks      | elapsed:  8.4min\n",
      "[Parallel(n_jobs=6)]: Done 566 tasks      | elapsed:  9.0min\n",
      "[Parallel(n_jobs=6)]: Done 601 tasks      | elapsed:  9.8min\n",
      "[Parallel(n_jobs=6)]: Done 636 tasks      | elapsed: 10.7min\n",
      "[Parallel(n_jobs=6)]: Done 673 tasks      | elapsed: 11.7min\n",
      "[Parallel(n_jobs=6)]: Done 710 tasks      | elapsed: 12.5min\n",
      "[Parallel(n_jobs=6)]: Done 749 tasks      | elapsed: 13.8min\n",
      "[Parallel(n_jobs=6)]: Done 788 tasks      | elapsed: 15.6min\n",
      "[Parallel(n_jobs=6)]: Done 829 tasks      | elapsed: 17.0min\n",
      "[Parallel(n_jobs=6)]: Done 870 tasks      | elapsed: 18.4min\n",
      "[Parallel(n_jobs=6)]: Done 913 tasks      | elapsed: 20.2min\n",
      "[Parallel(n_jobs=6)]: Done 956 tasks      | elapsed: 22.0min\n",
      "[Parallel(n_jobs=6)]: Done 1001 tasks      | elapsed: 24.2min\n",
      "[Parallel(n_jobs=6)]: Done 1046 tasks      | elapsed: 26.6min\n",
      "[Parallel(n_jobs=6)]: Done 1093 tasks      | elapsed: 28.9min\n",
      "[Parallel(n_jobs=6)]: Done 1140 tasks      | elapsed: 31.2min\n",
      "[Parallel(n_jobs=6)]: Done 1189 tasks      | elapsed: 34.7min\n",
      "[Parallel(n_jobs=6)]: Done 1238 tasks      | elapsed: 37.9min\n",
      "[Parallel(n_jobs=6)]: Done 1289 tasks      | elapsed: 40.6min\n",
      "[Parallel(n_jobs=6)]: Done 1340 tasks      | elapsed: 45.1min\n",
      "[Parallel(n_jobs=6)]: Done 1393 tasks      | elapsed: 49.1min\n",
      "[Parallel(n_jobs=6)]: Done 1446 tasks      | elapsed: 53.4min\n",
      "[Parallel(n_jobs=6)]: Done 1501 tasks      | elapsed: 56.0min\n",
      "[Parallel(n_jobs=6)]: Done 1556 tasks      | elapsed: 58.5min\n",
      "[Parallel(n_jobs=6)]: Done 1613 tasks      | elapsed: 61.0min\n",
      "[Parallel(n_jobs=6)]: Done 1670 tasks      | elapsed: 64.3min\n",
      "[Parallel(n_jobs=6)]: Done 1729 tasks      | elapsed: 67.4min\n",
      "[Parallel(n_jobs=6)]: Done 1788 tasks      | elapsed: 70.5min\n",
      "[Parallel(n_jobs=6)]: Done 1849 tasks      | elapsed: 75.3min\n",
      "[Parallel(n_jobs=6)]: Done 1910 tasks      | elapsed: 78.6min\n",
      "[Parallel(n_jobs=6)]: Done 1973 tasks      | elapsed: 81.4min\n",
      "[Parallel(n_jobs=6)]: Done 2036 tasks      | elapsed: 84.0min\n",
      "[Parallel(n_jobs=6)]: Done 2101 tasks      | elapsed: 86.6min\n",
      "[Parallel(n_jobs=6)]: Done 2166 tasks      | elapsed: 90.1min\n",
      "[Parallel(n_jobs=6)]: Done 2233 tasks      | elapsed: 93.3min\n",
      "[Parallel(n_jobs=6)]: Done 2300 tasks      | elapsed: 97.6min\n",
      "[Parallel(n_jobs=6)]: Done 2369 tasks      | elapsed: 102.6min\n",
      "[Parallel(n_jobs=6)]: Done 2438 tasks      | elapsed: 106.2min\n",
      "[Parallel(n_jobs=6)]: Done 2509 tasks      | elapsed: 109.1min\n",
      "[Parallel(n_jobs=6)]: Done 2580 tasks      | elapsed: 114.4min\n",
      "[Parallel(n_jobs=6)]: Done 2653 tasks      | elapsed: 118.2min\n",
      "[Parallel(n_jobs=6)]: Done 2726 tasks      | elapsed: 121.8min\n",
      "[Parallel(n_jobs=6)]: Done 2801 tasks      | elapsed: 127.3min\n",
      "[Parallel(n_jobs=6)]: Done 2876 tasks      | elapsed: 131.7min\n",
      "[Parallel(n_jobs=6)]: Done 2953 tasks      | elapsed: 135.1min\n",
      "[Parallel(n_jobs=6)]: Done 3030 tasks      | elapsed: 138.2min\n",
      "[Parallel(n_jobs=6)]: Done 3109 tasks      | elapsed: 141.7min\n",
      "[Parallel(n_jobs=6)]: Done 3188 tasks      | elapsed: 146.1min\n",
      "[Parallel(n_jobs=6)]: Done 3269 tasks      | elapsed: 151.5min\n",
      "[Parallel(n_jobs=6)]: Done 3350 tasks      | elapsed: 157.0min\n",
      "[Parallel(n_jobs=6)]: Done 3433 tasks      | elapsed: 161.1min\n",
      "[Parallel(n_jobs=6)]: Done 3516 tasks      | elapsed: 164.5min\n",
      "[Parallel(n_jobs=6)]: Done 3601 tasks      | elapsed: 168.2min\n",
      "[Parallel(n_jobs=6)]: Done 3686 tasks      | elapsed: 173.3min\n",
      "[Parallel(n_jobs=6)]: Done 3773 tasks      | elapsed: 179.7min\n",
      "[Parallel(n_jobs=6)]: Done 3860 tasks      | elapsed: 185.2min\n",
      "[Parallel(n_jobs=6)]: Done 3949 tasks      | elapsed: 188.5min\n",
      "[Parallel(n_jobs=6)]: Done 4038 tasks      | elapsed: 191.0min\n",
      "[Parallel(n_jobs=6)]: Done 4129 tasks      | elapsed: 193.7min\n",
      "[Parallel(n_jobs=6)]: Done 4220 tasks      | elapsed: 196.3min\n",
      "[Parallel(n_jobs=6)]: Done 4313 tasks      | elapsed: 198.9min\n",
      "[Parallel(n_jobs=6)]: Done 4406 tasks      | elapsed: 201.7min\n",
      "[Parallel(n_jobs=6)]: Done 4501 tasks      | elapsed: 204.6min\n",
      "[Parallel(n_jobs=6)]: Done 4596 tasks      | elapsed: 207.3min\n",
      "[Parallel(n_jobs=6)]: Done 4693 tasks      | elapsed: 210.2min\n",
      "[Parallel(n_jobs=6)]: Done 4790 tasks      | elapsed: 212.8min\n",
      "[Parallel(n_jobs=6)]: Done 4889 tasks      | elapsed: 216.1min\n",
      "[Parallel(n_jobs=6)]: Done 4988 tasks      | elapsed: 220.0min\n",
      "[Parallel(n_jobs=6)]: Done 5089 tasks      | elapsed: 225.0min\n",
      "[Parallel(n_jobs=6)]: Done 5190 tasks      | elapsed: 230.7min\n",
      "[Parallel(n_jobs=6)]: Done 5293 tasks      | elapsed: 239.3min\n",
      "[Parallel(n_jobs=6)]: Done 5396 tasks      | elapsed: 244.1min\n",
      "[Parallel(n_jobs=6)]: Done 5501 tasks      | elapsed: 248.3min\n",
      "[Parallel(n_jobs=6)]: Done 5606 tasks      | elapsed: 253.7min\n",
      "[Parallel(n_jobs=6)]: Done 5713 tasks      | elapsed: 260.2min\n",
      "[Parallel(n_jobs=6)]: Done 5820 tasks      | elapsed: 266.6min\n",
      "[Parallel(n_jobs=6)]: Done 5929 tasks      | elapsed: 271.3min\n",
      "[Parallel(n_jobs=6)]: Done 6038 tasks      | elapsed: 276.9min\n",
      "[Parallel(n_jobs=6)]: Done 6149 tasks      | elapsed: 283.0min\n",
      "[Parallel(n_jobs=6)]: Done 6260 tasks      | elapsed: 292.4min\n",
      "[Parallel(n_jobs=6)]: Done 6373 tasks      | elapsed: 298.4min\n",
      "[Parallel(n_jobs=6)]: Done 6486 tasks      | elapsed: 303.0min\n",
      "[Parallel(n_jobs=6)]: Done 6601 tasks      | elapsed: 309.4min\n",
      "[Parallel(n_jobs=6)]: Done 6716 tasks      | elapsed: 319.0min\n",
      "[Parallel(n_jobs=6)]: Done 6833 tasks      | elapsed: 327.0min\n",
      "[Parallel(n_jobs=6)]: Done 6950 tasks      | elapsed: 332.8min\n",
      "[Parallel(n_jobs=6)]: Done 7069 tasks      | elapsed: 340.6min\n",
      "[Parallel(n_jobs=6)]: Done 7188 tasks      | elapsed: 351.1min\n",
      "[Parallel(n_jobs=6)]: Done 7309 tasks      | elapsed: 360.5min\n",
      "[Parallel(n_jobs=6)]: Done 7430 tasks      | elapsed: 366.0min\n",
      "[Parallel(n_jobs=6)]: Done 7553 tasks      | elapsed: 373.6min\n",
      "[Parallel(n_jobs=6)]: Done 7676 tasks      | elapsed: 382.8min\n",
      "[Parallel(n_jobs=6)]: Done 7801 tasks      | elapsed: 390.2min\n",
      "[Parallel(n_jobs=6)]: Done 7926 tasks      | elapsed: 394.0min\n",
      "[Parallel(n_jobs=6)]: Done 8053 tasks      | elapsed: 397.9min\n",
      "[Parallel(n_jobs=6)]: Done 8180 tasks      | elapsed: 401.9min\n",
      "[Parallel(n_jobs=6)]: Done 8309 tasks      | elapsed: 405.9min\n",
      "[Parallel(n_jobs=6)]: Done 8438 tasks      | elapsed: 410.9min\n",
      "[Parallel(n_jobs=6)]: Done 8569 tasks      | elapsed: 415.7min\n",
      "[Parallel(n_jobs=6)]: Done 8700 tasks      | elapsed: 420.5min\n",
      "[Parallel(n_jobs=6)]: Done 8833 tasks      | elapsed: 426.3min\n",
      "[Parallel(n_jobs=6)]: Done 8966 tasks      | elapsed: 433.2min\n",
      "[Parallel(n_jobs=6)]: Done 9101 tasks      | elapsed: 441.9min\n",
      "[Parallel(n_jobs=6)]: Done 9236 tasks      | elapsed: 450.8min\n"
     ]
    },
    {
     "name": "stderr",
     "output_type": "stream",
     "text": [
      "[Parallel(n_jobs=6)]: Done 9373 tasks      | elapsed: 457.2min\n",
      "[Parallel(n_jobs=6)]: Done 9510 tasks      | elapsed: 465.5min\n",
      "[Parallel(n_jobs=6)]: Done 9649 tasks      | elapsed: 479.8min\n",
      "[Parallel(n_jobs=6)]: Done 9788 tasks      | elapsed: 488.0min\n",
      "[Parallel(n_jobs=6)]: Done 9929 tasks      | elapsed: 495.8min\n",
      "[Parallel(n_jobs=6)]: Done 10070 tasks      | elapsed: 506.9min\n",
      "[Parallel(n_jobs=6)]: Done 10213 tasks      | elapsed: 521.4min\n",
      "[Parallel(n_jobs=6)]: Done 10356 tasks      | elapsed: 529.4min\n",
      "[Parallel(n_jobs=6)]: Done 10501 tasks      | elapsed: 541.8min\n",
      "[Parallel(n_jobs=6)]: Done 10646 tasks      | elapsed: 556.4min\n",
      "[Parallel(n_jobs=6)]: Done 10793 tasks      | elapsed: 565.2min\n",
      "[Parallel(n_jobs=6)]: Done 10940 tasks      | elapsed: 575.9min\n",
      "[Parallel(n_jobs=6)]: Done 11089 tasks      | elapsed: 593.0min\n",
      "[Parallel(n_jobs=6)]: Done 11238 tasks      | elapsed: 606.7min\n",
      "[Parallel(n_jobs=6)]: Done 11389 tasks      | elapsed: 614.7min\n",
      "[Parallel(n_jobs=6)]: Done 11540 tasks      | elapsed: 628.2min\n",
      "[Parallel(n_jobs=6)]: Done 11664 out of 11664 | elapsed: 640.0min finished\n"
     ]
    },
    {
     "name": "stdout",
     "output_type": "stream",
     "text": [
      "[09:41:55] WARNING: C:/Jenkins/workspace/xgboost-win64_release_0.90/src/objective/regression_obj.cu:152: reg:linear is now deprecated in favor of reg:squarederror.\n",
      "make_scorer(mean_squared_error, greater_is_better=False)\n",
      "best params\n",
      "{'colsample_bytree': 0.4, 'gamma': 0.1, 'learning_rate': 0.1, 'max_depth': 3, 'min_child_weight': 1.5, 'n_estimators': 10000, 'reg_alpha': 0.75, 'reg_lambda': 0.01, 'subsample': 0.95}\n",
      "best score\n",
      "-2.0016773052936006\n"
     ]
    }
   ],
   "source": [
    "#choosing best parameters to built a model\n",
    "xgb_model = xgboost.XGBRegressor(learning_rate =0.1, n_estimators=10, max_depth=5,\n",
    "     min_child_weight=1, gamma=0, subsample=0.8, colsample_bytree=0.8, nthread=6, scale_pos_weight=1, seed=27)\n",
    "\n",
    "gsearch1 = GridSearchCV(estimator = xgb_model, param_grid = parameters_for_testing, n_jobs=6,iid=False, verbose=10,scoring='neg_mean_squared_error')\n",
    "gsearch1.fit(train_x,train_y)\n",
    "print (gsearch1.scorer_ ) # print (gsearch1.grid_scores_)\n",
    "print('best params')\n",
    "print (gsearch1.best_params_)\n",
    "print('best score')\n",
    "print (gsearch1.best_score_)"
   ]
  },
  {
   "cell_type": "code",
   "execution_count": 9,
   "metadata": {},
   "outputs": [],
   "source": [
    "#dataframe dependents and label training\n",
    "data_dmatrix = xgb.DMatrix(data=X_train_sc,label=y_train)\n",
    "params ={'colsample_bytree': 0.4, 'gamma': 0.1, 'learning_rate': 0.1, 'max_depth': 3, 'min_child_weight': 1.5, 'n_estimators': 10000, 'reg_alpha': 0.75, 'reg_lambda': 0.01, 'subsample': 0.95}"
   ]
  },
  {
   "cell_type": "code",
   "execution_count": 10,
   "metadata": {
    "scrolled": true
   },
   "outputs": [],
   "source": [
    "xg_reg = xgb.train(params=params, dtrain=data_dmatrix, num_boost_round=10)"
   ]
  },
  {
   "cell_type": "code",
   "execution_count": 11,
   "metadata": {},
   "outputs": [
    {
     "data": {
      "image/png": "[encoded data removed]",
      "text/plain": [
       "<Figure size 432x288 with 1 Axes>"
      ]
     },
     "metadata": {
      "needs_background": "light"
     },
     "output_type": "display_data"
    }
   ],
   "source": [
    "#variable selection\n",
    "xgb.plot_importance(xg_reg)\n",
    "plt.rcParams['figure.figsize'] = [20, 20]\n",
    "plt.show()"
   ]
  },
  {
   "cell_type": "code",
   "execution_count": 14,
   "metadata": {},
   "outputs": [
    {
     "name": "stderr",
     "output_type": "stream",
     "text": [
      "C:\\Users\\lmosquera\\AppData\\Local\\Continuum\\anaconda3\\lib\\site-packages\\ipykernel_launcher.py:18: SettingWithCopyWarning: \n",
      "A value is trying to be set on a copy of a slice from a DataFrame\n",
      "\n",
      "See the caveats in the documentation: http://pandas.pydata.org/pandas-docs/stable/indexing.html#indexing-view-versus-copy\n",
      "C:\\Users\\lmosquera\\AppData\\Local\\Continuum\\anaconda3\\lib\\site-packages\\ipykernel_launcher.py:23: SettingWithCopyWarning: \n",
      "A value is trying to be set on a copy of a slice from a DataFrame\n",
      "\n",
      "See the caveats in the documentation: http://pandas.pydata.org/pandas-docs/stable/indexing.html#indexing-view-versus-copy\n",
      "C:\\Users\\lmosquera\\AppData\\Local\\Continuum\\anaconda3\\lib\\site-packages\\ipykernel_launcher.py:20: SettingWithCopyWarning: \n",
      "A value is trying to be set on a copy of a slice from a DataFrame\n",
      "\n",
      "See the caveats in the documentation: http://pandas.pydata.org/pandas-docs/stable/indexing.html#indexing-view-versus-copy\n"
     ]
    },
    {
     "name": "stdout",
     "output_type": "stream",
     "text": [
      "Explained_variance_score:  0.40486925157799825\n",
      "Test 0 y >0:  0.6333333333333333\n",
      "MSE_test: 0.8563488385776752\n"
     ]
    }
   ],
   "source": [
    "#Describe the model\n",
    "xg_reg = xgb.XGBRegressor(objective ='count:poisson')\n",
    "columns=['x8','x26','x1','x27','x31','x11','x30','x2','x25','x22','x16','x9','x3','x21']\n",
    "X_train_sc3=pd.DataFrame(X_train_sc,columns=columns)\n",
    "X_test_sc3=pd.DataFrame(X_test_sc,columns=columns)\n",
    "X_val_sc3=pd.DataFrame(X_val_sc,columns=columns)\n",
    "#Fit the model\n",
    "xg_reg.fit(X_train_sc3,y_train)\n",
    "#Make model predictions\n",
    "preds = xg_reg.predict(X_test_sc3)\n",
    "y_ts = pd.DataFrame(y_test,columns=['y_ts'])\n",
    "pred= pd.DataFrame(np.round(preds),columns=['predict'])\n",
    "#pred\n",
    "columns=['y_ts','pred']\n",
    "#dataframe y_test Vs Y_predict\n",
    "Result1= pd.concat([y_ts,pred], axis=1, sort=False)\n",
    "Result1['xg_reg_1']= [0]*len(Result1)\n",
    "sum=0\n",
    "for i in range(len(Result1)):\n",
    "    if Result1.predict[i]<=0:\n",
    "        if Result1.y_ts[i]<=0:\n",
    "            Result1['xg_reg_1'][i]=1\n",
    "            sum=sum+1\n",
    "        else: Result1['xg_reg_1'] [i]=0\n",
    "    elif Result1.predict[i]>0:\n",
    "        if Result1.y_ts[i]>0:\n",
    "            Result1['xg_reg_1'][i]=1\n",
    "            sum=sum+1        \n",
    "    else: Result1['xg_reg_1'] [i]=0\n",
    "print(\"Explained_variance_score: \",explained_variance_score(y_test,pred))\n",
    "print(\"Test 0 y >0: \",sum/len(Result1))\n",
    "print(\"MSE_test:\",np.sqrt(mean_squared_error(y_test, pred)))"
   ]
  },
  {
   "cell_type": "code",
   "execution_count": 15,
   "metadata": {},
   "outputs": [
    {
     "name": "stderr",
     "output_type": "stream",
     "text": [
      "C:\\Users\\lmosquera\\AppData\\Local\\Continuum\\anaconda3\\lib\\site-packages\\ipykernel_launcher.py:18: SettingWithCopyWarning: \n",
      "A value is trying to be set on a copy of a slice from a DataFrame\n",
      "\n",
      "See the caveats in the documentation: http://pandas.pydata.org/pandas-docs/stable/indexing.html#indexing-view-versus-copy\n",
      "C:\\Users\\lmosquera\\AppData\\Local\\Continuum\\anaconda3\\lib\\site-packages\\ipykernel_launcher.py:15: SettingWithCopyWarning: \n",
      "A value is trying to be set on a copy of a slice from a DataFrame\n",
      "\n",
      "See the caveats in the documentation: http://pandas.pydata.org/pandas-docs/stable/indexing.html#indexing-view-versus-copy\n",
      "  from ipykernel import kernelapp as app\n",
      "C:\\Users\\lmosquera\\AppData\\Local\\Continuum\\anaconda3\\lib\\site-packages\\ipykernel_launcher.py:13: SettingWithCopyWarning: \n",
      "A value is trying to be set on a copy of a slice from a DataFrame\n",
      "\n",
      "See the caveats in the documentation: http://pandas.pydata.org/pandas-docs/stable/indexing.html#indexing-view-versus-copy\n",
      "  del sys.path[0]\n"
     ]
    },
    {
     "name": "stdout",
     "output_type": "stream",
     "text": [
      "Explained_variance_score:  -0.23624047417442906\n",
      "Val 0 y >0:  0.6333333333333333\n",
      "MSE_val: 1.3165611772087666\n"
     ]
    }
   ],
   "source": [
    "# predict Y Validation\n",
    "y_val = pd.DataFrame(y_val,columns=['y_val'])\n",
    "preds_v = xg_reg.predict(X_val_sc3)   \n",
    "#predict is discretised \n",
    "preds_v= pd.DataFrame(np.round(preds_v),columns=['predict'])\n",
    "               \n",
    "columns=['y_val','preds_v']# X_train_sc,label=y_train\n",
    "Result2= pd.concat([y_val,preds_v], axis=1, sort=False)\n",
    "\n",
    "sum=0\n",
    "Result2['xg_reg_val']= [0]*len(Result2)\n",
    "for i in range(len(Result2)):\n",
    "    if Result2.predict[i]<=0:\n",
    "        if Result2.y_val[i]<=0:\n",
    "            Result2['xg_reg_val'][i]=1\n",
    "            sum=sum+1\n",
    "        else: Result2['xg_reg_val'] [i]=0\n",
    "    elif Result2.predict[i]>0:\n",
    "        if Result2.y_val[i]>0:\n",
    "            Result2['xg_reg_val'][i]=1\n",
    "            sum=sum+1        \n",
    "    else: Result2['xg_reg_val'] [i]=0\n",
    "print(\"Explained_variance_score: \",explained_variance_score(y_val, preds_v))        \n",
    "print(\"Val 0 y >0: \",sum/len(Result2))\n",
    "print(\"MSE_val:\",np.sqrt(mean_squared_error(y_val, preds_v)))\n"
   ]
  },
  {
   "cell_type": "code",
   "execution_count": 16,
   "metadata": {},
   "outputs": [],
   "source": [
    "#Train Dataframe\n",
    "#To erase index of X_train\n",
    "X_train_sc2=X_train_sc.reset_index().values\n",
    "#y_train as a dataframe\n",
    "y_train2= pd.DataFrame(y_train,columns=['y_train'])\n",
    "columns=['id','x1','x2','x3','x4','x5','x6','x7','x8','x9','x10','x11','x12','x13','x14','x15','x16','x17','x18','x19',\n",
    "         'x20','x21','x22','x23','x24','x25','x26','x27','x28', 'x29', 'x30', 'x31','x32']\n",
    "#change name of colums of X_train\n",
    "X_train_sc2= pd.DataFrame(X_train_sc2,columns=columns)#\n",
    "#drop id\n",
    "X_train_sc2=X_train_sc2.drop(['id'], axis=1)\n",
    "#Dataframe y with x's\n",
    "X_train_sc2 = pd.concat([y_train2,X_train_sc2], axis=1, sort=False)\n",
    "\n",
    "# Test DataFrame\n",
    "X_test_sc2=X_test_sc.reset_index().values\n",
    "y_test2= pd.DataFrame(y_test,columns=['y_test'])\n",
    "X_test_sc2= pd.DataFrame(X_test_sc2,columns=columns)\n",
    "X_test_sc2=X_test_sc2.drop(['id'], axis=1)\n",
    "X_test_sc2 = pd.concat([y_test2,X_test_sc2], axis=1, sort=False)\n",
    "#Value DataFrame\n",
    "\n",
    "X_val_sc2=X_val_sc.reset_index().values\n",
    "y_val2= pd.DataFrame(y_val,columns=['y_val'])\n",
    "X_val_sc2= pd.DataFrame(X_val_sc2,columns=columns)\n",
    "X_val_sc2=X_val_sc2.drop(['id'], axis=1)\n",
    "X_val_sc2 = pd.concat([y_val2,X_val_sc2], axis=1, sort=False)"
   ]
  },
  {
   "cell_type": "markdown",
   "metadata": {},
   "source": [
    "# Probando modelo con "
   ]
  },
  {
   "cell_type": "code",
   "execution_count": 17,
   "metadata": {},
   "outputs": [
    {
     "name": "stdout",
     "output_type": "stream",
     "text": [
      "Warning: Maximum number of iterations has been exceeded.\n",
      "         Current function value: 1.319992\n",
      "         Iterations: 35\n",
      "         Function evaluations: 43\n",
      "         Gradient evaluations: 43\n",
      "                     NegativeBinomial Regression Results                      \n",
      "==============================================================================\n",
      "Dep. Variable:               y_train2   No. Observations:                   90\n",
      "Model:               NegativeBinomial   Df Residuals:                       75\n",
      "Method:                           MLE   Df Model:                           14\n",
      "Date:                Wed, 02 Oct 2019   Pseudo R-squ.:                  0.1616\n",
      "Time:                        11:55:45   Log-Likelihood:                -118.80\n",
      "converged:                      False   LL-Null:                       -141.70\n",
      "                                        LLR p-value:                 3.015e-05\n",
      "==============================================================================\n",
      "                 coef    std err          z      P>|z|      [0.025      0.975]\n",
      "------------------------------------------------------------------------------\n",
      "Intercept      0.0176      0.344      0.051      0.959      -0.656       0.691\n",
      "x8             0.1029      0.129      0.801      0.423      -0.149       0.355\n",
      "x26            0.2465      0.182      1.351      0.177      -0.111       0.604\n",
      "x1            -0.0076      0.335     -0.023      0.982      -0.665       0.649\n",
      "x27           -0.0015      0.003     -0.590      0.555      -0.006       0.003\n",
      "x11            0.0080      0.193      0.041      0.967      -0.369       0.385\n",
      "x31            0.4812      0.679      0.709      0.478      -0.849       1.812\n",
      "x30           -0.0174      0.070     -0.250      0.802      -0.154       0.119\n",
      "x2            -0.1226      0.310     -0.396      0.692      -0.729       0.484\n",
      "x25           -0.3625      0.143     -2.534      0.011      -0.643      -0.082\n",
      "x22            0.1407      0.069      2.037      0.042       0.005       0.276\n",
      "x16           -0.2654      0.375     -0.708      0.479      -1.001       0.470\n",
      "x9            -0.1441      0.132     -1.091      0.275      -0.403       0.115\n",
      "x3             0.5958      0.236      2.520      0.012       0.132       1.059\n",
      "x21            0.0752      0.167      0.449      0.653      -0.253       0.403\n",
      "alpha       8.162e-06      0.061      0.000      1.000      -0.119       0.119\n",
      "==============================================================================\n"
     ]
    },
    {
     "name": "stderr",
     "output_type": "stream",
     "text": [
      "C:\\Users\\lmosquera\\AppData\\Local\\Continuum\\anaconda3\\lib\\site-packages\\statsmodels\\base\\model.py:508: ConvergenceWarning: Maximum Likelihood optimization failed to converge. Check mle_retvals\n",
      "  \"Check mle_retvals\", ConvergenceWarning)\n"
     ]
    }
   ],
   "source": [
    "m_nb2 = negativebinomial('y_train2~x8+x26+x1+x27+x11+x31+x30+x2+x25+x22+x16+x9+x3+x21', data = X_train_sc2).fit()\n",
    "print (m_nb2.summary())"
   ]
  },
  {
   "cell_type": "code",
   "execution_count": 18,
   "metadata": {},
   "outputs": [],
   "source": [
    "preds_nb_t = m_nb2.predict(X_test_sc)\n",
    "preds_nb_t=preds_nb_t.reset_index().values\n",
    "y_test_nb_t = pd.DataFrame(y_test,columns=['y_test'])\n",
    "preds_nb_t= pd.DataFrame(preds_nb_t,columns=['id','pred_nb_t'])\n",
    "Result_nb_t = pd.concat([y_test_nb_t,np.round(preds_nb_t.iloc[:,1])], axis=1, sort=False)\n",
    "\n",
    "preds_nb_v = m_nb2.predict(X_val_sc)\n",
    "preds_nb_v=preds_nb_v.reset_index().values\n",
    "y_val_nb_v = pd.DataFrame(y_val,columns=['y_val'])\n",
    "preds_nb_v= pd.DataFrame(preds_nb_v,columns=['id','pred_nb_v'])\n",
    "Result_nb_v = pd.concat([y_val_nb_v,np.round(preds_nb_v.iloc[:,1])], axis=1, sort=False)\n"
   ]
  },
  {
   "cell_type": "code",
   "execution_count": 19,
   "metadata": {},
   "outputs": [
    {
     "name": "stderr",
     "output_type": "stream",
     "text": [
      "C:\\Users\\lmosquera\\AppData\\Local\\Continuum\\anaconda3\\lib\\site-packages\\ipykernel_launcher.py:7: SettingWithCopyWarning: \n",
      "A value is trying to be set on a copy of a slice from a DataFrame\n",
      "\n",
      "See the caveats in the documentation: http://pandas.pydata.org/pandas-docs/stable/indexing.html#indexing-view-versus-copy\n",
      "  import sys\n",
      "C:\\Users\\lmosquera\\AppData\\Local\\Continuum\\anaconda3\\lib\\site-packages\\ipykernel_launcher.py:9: SettingWithCopyWarning: \n",
      "A value is trying to be set on a copy of a slice from a DataFrame\n",
      "\n",
      "See the caveats in the documentation: http://pandas.pydata.org/pandas-docs/stable/indexing.html#indexing-view-versus-copy\n",
      "  if __name__ == '__main__':\n"
     ]
    },
    {
     "name": "stdout",
     "output_type": "stream",
     "text": [
      "Val 0 y >0:  0.6\n",
      "Predicted   0   1\n",
      "Actual           \n",
      "0           2   1\n",
      "1          11  16\n"
     ]
    },
    {
     "data": {
      "text/plain": [
       "<matplotlib.axes._subplots.AxesSubplot at 0x1fcd4284940>"
      ]
     },
     "execution_count": 19,
     "metadata": {},
     "output_type": "execute_result"
    },
    {
     "data": {
      "image/png": "[encoded data removed]",
      "text/plain": [
       "<Figure size 1440x1440 with 2 Axes>"
      ]
     },
     "metadata": {
      "needs_background": "light"
     },
     "output_type": "display_data"
    }
   ],
   "source": [
    "Result_nb_t['Mayor0_test'] = (Result_nb_t['pred_nb_t']>0).astype(int)\n",
    "Result_nb_t['Mayor0_real'] = (Result_nb_t['y_test']>0).astype(int)\n",
    "Result_nb_t['prueba']= [0]*len(Result_nb_t['Mayor0_real'])\n",
    "sum=0\n",
    "for i in range(len(Result_nb_t['Mayor0_real'])):\n",
    "    if Result_nb_t.Mayor0_real[i]==Result_nb_t.Mayor0_test[i]:\n",
    "        Result_nb_t['prueba'][i]=1\n",
    "        sum=sum+1\n",
    "    else: Result_nb_t['prueba'] [i]=0\n",
    "accu=sum/len(Result_nb_t['Mayor0_real'])\n",
    "print(\"Val 0 y >0: \",accu)\n",
    "confusion_matrix = pd.crosstab(Result_nb_t['Mayor0_test'],Result_nb_t['Mayor0_real'], rownames=['Actual'], colnames=['Predicted'])\n",
    "print (confusion_matrix)\n",
    "df = pd.DataFrame(Result_nb_t, columns=['Mayor0_test','Mayor0_real'])\n",
    "confusion_matrix = pd.crosstab(df['Mayor0_real'], df['Mayor0_test'], rownames=['Actual'], colnames=['Predicted'])\n",
    "\n",
    "sns.heatmap(confusion_matrix, annot=True)"
   ]
  },
  {
   "cell_type": "code",
   "execution_count": 20,
   "metadata": {},
   "outputs": [
    {
     "name": "stderr",
     "output_type": "stream",
     "text": [
      "C:\\Users\\lmosquera\\AppData\\Local\\Continuum\\anaconda3\\lib\\site-packages\\ipykernel_launcher.py:7: SettingWithCopyWarning: \n",
      "A value is trying to be set on a copy of a slice from a DataFrame\n",
      "\n",
      "See the caveats in the documentation: http://pandas.pydata.org/pandas-docs/stable/indexing.html#indexing-view-versus-copy\n",
      "  import sys\n",
      "C:\\Users\\lmosquera\\AppData\\Local\\Continuum\\anaconda3\\lib\\site-packages\\ipykernel_launcher.py:9: SettingWithCopyWarning: \n",
      "A value is trying to be set on a copy of a slice from a DataFrame\n",
      "\n",
      "See the caveats in the documentation: http://pandas.pydata.org/pandas-docs/stable/indexing.html#indexing-view-versus-copy\n",
      "  if __name__ == '__main__':\n"
     ]
    },
    {
     "name": "stdout",
     "output_type": "stream",
     "text": [
      "Val 0 y >0:  0.7333333333333333\n",
      "Predicted  0   1\n",
      "Actual          \n",
      "0          2   4\n",
      "1          4  20\n"
     ]
    },
    {
     "data": {
      "text/plain": [
       "<matplotlib.axes._subplots.AxesSubplot at 0x1fcdaff6240>"
      ]
     },
     "execution_count": 20,
     "metadata": {},
     "output_type": "execute_result"
    },
    {
     "data": {
      "image/png": "[encoded data removed]",
      "text/plain": [
       "<Figure size 1440x1440 with 2 Axes>"
      ]
     },
     "metadata": {
      "needs_background": "light"
     },
     "output_type": "display_data"
    }
   ],
   "source": [
    "Result_nb_v['Mayor0_val'] = (Result_nb_v['pred_nb_v']>0).astype(int)\n",
    "Result_nb_v['Mayor0_real'] = (Result_nb_v['y_val']>0).astype(int)\n",
    "Result_nb_v['prueba']= [0]*len(Result_nb_v['Mayor0_real'])\n",
    "sum=0\n",
    "for i in range(len(Result_nb_v['Mayor0_real'])):\n",
    "    if Result_nb_v.Mayor0_real[i]==Result_nb_v.Mayor0_val[i]:\n",
    "        Result_nb_v['prueba'][i]=1\n",
    "        sum=sum+1\n",
    "    else: Result_nb_v['prueba'] [i]=0\n",
    "accu=sum/len(Result_nb_v['Mayor0_real'])\n",
    "print(\"Val 0 y >0: \",accu)\n",
    "confusion_matrix = pd.crosstab(Result_nb_v['Mayor0_val'],Result_nb_v['Mayor0_real'], rownames=['Actual'], colnames=['Predicted'])\n",
    "print (confusion_matrix)\n",
    "df = pd.DataFrame(Result_nb_v, columns=['Mayor0_val','Mayor0_real'])\n",
    "confusion_matrix = pd.crosstab(df['Mayor0_real'], df['Mayor0_val'], rownames=['Actual'], colnames=['Predicted'])\n",
    "\n",
    "sns.heatmap(confusion_matrix, annot=True)"
   ]
  },
  {
   "cell_type": "code",
   "execution_count": 21,
   "metadata": {},
   "outputs": [
    {
     "name": "stdout",
     "output_type": "stream",
     "text": [
      "Optimization terminated successfully.\n",
      "         Current function value: 1.319989\n",
      "         Iterations 7\n",
      "                          Poisson Regression Results                          \n",
      "==============================================================================\n",
      "Dep. Variable:               y_train2   No. Observations:                   90\n",
      "Model:                        Poisson   Df Residuals:                       75\n",
      "Method:                           MLE   Df Model:                           14\n",
      "Date:                Wed, 02 Oct 2019   Pseudo R-squ.:                  0.1862\n",
      "Time:                        11:56:07   Log-Likelihood:                -118.80\n",
      "converged:                       True   LL-Null:                       -145.98\n",
      "                                        LLR p-value:                 1.118e-06\n",
      "==============================================================================\n",
      "                 coef    std err          z      P>|z|      [0.025      0.975]\n",
      "------------------------------------------------------------------------------\n",
      "Intercept      0.0170      0.344      0.049      0.961      -0.657       0.691\n",
      "x8             0.1020      0.128      0.796      0.426      -0.149       0.353\n",
      "x26            0.2463      0.182      1.353      0.176      -0.111       0.603\n",
      "x1            -0.0068      0.335     -0.020      0.984      -0.663       0.649\n",
      "x27           -0.0015      0.003     -0.595      0.552      -0.006       0.003\n",
      "x11            0.0088      0.192      0.046      0.964      -0.367       0.384\n",
      "x31            0.4919      0.679      0.725      0.469      -0.838       1.822\n",
      "x30           -0.0178      0.070     -0.256      0.798      -0.154       0.119\n",
      "x2            -0.1215      0.310     -0.392      0.695      -0.728       0.486\n",
      "x25           -0.3630      0.143     -2.539      0.011      -0.643      -0.083\n",
      "x22            0.1403      0.069      2.034      0.042       0.005       0.275\n",
      "x16           -0.2652      0.375     -0.707      0.479      -1.000       0.470\n",
      "x9            -0.1450      0.132     -1.102      0.270      -0.403       0.113\n",
      "x3             0.5946      0.235      2.526      0.012       0.133       1.056\n",
      "x21            0.0753      0.167      0.450      0.653      -0.253       0.403\n",
      "==============================================================================\n"
     ]
    }
   ],
   "source": [
    "#Describe the model→\n",
    "m_p = poisson('y_train2~x8+x26+x1+x27+x11+x31+x30+x2+x25+x22+x16+x9+x3+x21', data = X_train_sc2).fit()\n",
    "#Summarize the model\n",
    "print (m_p.summary())"
   ]
  },
  {
   "cell_type": "code",
   "execution_count": 22,
   "metadata": {},
   "outputs": [],
   "source": [
    "preds_p_t = m_p.predict(X_test_sc)\n",
    "preds_p_t=preds_p_t.reset_index().values\n",
    "y_test_p_t = pd.DataFrame(y_test,columns=['y_test'])\n",
    "preds_p_t= pd.DataFrame(preds_p_t,columns=['id','pred_p_t'])\n",
    "Result_p_t = pd.concat([y_test_p_t,np.round(preds_p_t.iloc[:,1])], axis=1, sort=False)\n",
    "\n",
    "preds_p_v = m_p.predict(X_val_sc)\n",
    "preds_p_v=preds_p_v.reset_index().values\n",
    "y_val_p_v = pd.DataFrame(y_val,columns=['y_val'])\n",
    "preds_p_v= pd.DataFrame(preds_p_v,columns=['id','pred_p_v'])\n",
    "Result_p_v = pd.concat([y_val_p_v,np.round(preds_p_v.iloc[:,1])], axis=1, sort=False)"
   ]
  },
  {
   "cell_type": "code",
   "execution_count": 23,
   "metadata": {},
   "outputs": [
    {
     "name": "stderr",
     "output_type": "stream",
     "text": [
      "C:\\Users\\lmosquera\\AppData\\Local\\Continuum\\anaconda3\\lib\\site-packages\\ipykernel_launcher.py:7: SettingWithCopyWarning: \n",
      "A value is trying to be set on a copy of a slice from a DataFrame\n",
      "\n",
      "See the caveats in the documentation: http://pandas.pydata.org/pandas-docs/stable/indexing.html#indexing-view-versus-copy\n",
      "  import sys\n",
      "C:\\Users\\lmosquera\\AppData\\Local\\Continuum\\anaconda3\\lib\\site-packages\\ipykernel_launcher.py:9: SettingWithCopyWarning: \n",
      "A value is trying to be set on a copy of a slice from a DataFrame\n",
      "\n",
      "See the caveats in the documentation: http://pandas.pydata.org/pandas-docs/stable/indexing.html#indexing-view-versus-copy\n",
      "  if __name__ == '__main__':\n"
     ]
    },
    {
     "name": "stdout",
     "output_type": "stream",
     "text": [
      "Val 0 y >0:  0.6\n",
      "Predicted   0   1\n",
      "Actual           \n",
      "0           2   1\n",
      "1          11  16\n"
     ]
    },
    {
     "data": {
      "text/plain": [
       "<matplotlib.axes._subplots.AxesSubplot at 0x1fcda145a58>"
      ]
     },
     "execution_count": 23,
     "metadata": {},
     "output_type": "execute_result"
    },
    {
     "data": {
      "image/png": "[encoded data removed]",
      "text/plain": [
       "<Figure size 1440x1440 with 2 Axes>"
      ]
     },
     "metadata": {
      "needs_background": "light"
     },
     "output_type": "display_data"
    }
   ],
   "source": [
    "Result_p_t['Mayor0_test'] = (Result_p_t['pred_p_t']>0).astype(int)\n",
    "Result_p_t['Mayor0_real'] = (Result_p_t['y_test']>0).astype(int)\n",
    "Result_p_t['prueba']= [0]*len(Result_p_t['Mayor0_real'])\n",
    "sum=0\n",
    "for i in range(len(Result_p_t['Mayor0_real'])):\n",
    "    if Result_p_t.Mayor0_real[i]==Result_p_t.Mayor0_test[i]:\n",
    "        Result_p_t['prueba'][i]=1\n",
    "        sum=sum+1\n",
    "    else: Result_p_t['prueba'] [i]=0\n",
    "accu=sum/len(Result_p_t['Mayor0_real'])\n",
    "print(\"Val 0 y >0: \",accu)\n",
    "confusion_matrix = pd.crosstab(Result_p_t['Mayor0_test'],Result_p_t['Mayor0_real'], rownames=['Actual'], colnames=['Predicted'])\n",
    "print (confusion_matrix)\n",
    "df = pd.DataFrame(Result_p_t, columns=['Mayor0_test','Mayor0_real'])\n",
    "confusion_matrix = pd.crosstab(df['Mayor0_real'], df['Mayor0_test'], rownames=['Actual'], colnames=['Predicted'])\n",
    "\n",
    "sns.heatmap(confusion_matrix, annot=True)"
   ]
  },
  {
   "cell_type": "code",
   "execution_count": 24,
   "metadata": {},
   "outputs": [
    {
     "name": "stderr",
     "output_type": "stream",
     "text": [
      "C:\\Users\\lmosquera\\AppData\\Local\\Continuum\\anaconda3\\lib\\site-packages\\ipykernel_launcher.py:7: SettingWithCopyWarning: \n",
      "A value is trying to be set on a copy of a slice from a DataFrame\n",
      "\n",
      "See the caveats in the documentation: http://pandas.pydata.org/pandas-docs/stable/indexing.html#indexing-view-versus-copy\n",
      "  import sys\n",
      "C:\\Users\\lmosquera\\AppData\\Local\\Continuum\\anaconda3\\lib\\site-packages\\ipykernel_launcher.py:9: SettingWithCopyWarning: \n",
      "A value is trying to be set on a copy of a slice from a DataFrame\n",
      "\n",
      "See the caveats in the documentation: http://pandas.pydata.org/pandas-docs/stable/indexing.html#indexing-view-versus-copy\n",
      "  if __name__ == '__main__':\n"
     ]
    },
    {
     "name": "stdout",
     "output_type": "stream",
     "text": [
      "Val 0 y >0:  0.7333333333333333\n",
      "Predicted  0   1\n",
      "Actual          \n",
      "0          2   4\n",
      "1          4  20\n"
     ]
    },
    {
     "data": {
      "text/plain": [
       "<matplotlib.axes._subplots.AxesSubplot at 0x1fcdad9dda0>"
      ]
     },
     "execution_count": 24,
     "metadata": {},
     "output_type": "execute_result"
    },
    {
     "data": {
      "image/png": "[encoded data removed]",
      "text/plain": [
       "<Figure size 1440x1440 with 2 Axes>"
      ]
     },
     "metadata": {
      "needs_background": "light"
     },
     "output_type": "display_data"
    }
   ],
   "source": [
    "Result_p_v['Mayor0_val'] = (Result_p_v['pred_p_v']>0).astype(int)\n",
    "Result_p_v['Mayor0_real'] = (Result_p_v['y_val']>0).astype(int)\n",
    "Result_p_v['prueba']= [0]*len(Result_p_v['Mayor0_real'])\n",
    "sum=0\n",
    "for i in range(len(Result_p_v['Mayor0_real'])):\n",
    "    if Result_p_v.Mayor0_real[i]==Result_p_v.Mayor0_val[i]:\n",
    "        Result_p_v['prueba'][i]=1\n",
    "        sum=sum+1\n",
    "    else: Result_p_v['prueba'] [i]=0\n",
    "accu=sum/len(Result_p_v['Mayor0_real'])\n",
    "print(\"Val 0 y >0: \",accu)\n",
    "confusion_matrix = pd.crosstab(Result_p_v['Mayor0_val'],Result_p_v['Mayor0_real'], rownames=['Actual'], colnames=['Predicted'])\n",
    "print (confusion_matrix)\n",
    "df = pd.DataFrame(Result_p_v, columns=['Mayor0_val','Mayor0_real'])\n",
    "confusion_matrix = pd.crosstab(df['Mayor0_real'], df['Mayor0_val'], rownames=['Actual'], colnames=['Predicted'])\n",
    "\n",
    "sns.heatmap(confusion_matrix, annot=True)"
   ]
  },
  {
   "cell_type": "code",
   "execution_count": 25,
   "metadata": {},
   "outputs": [],
   "source": [
    "cv_results = xgb.cv(dtrain=data_dmatrix, params=params, nfold=3,\n",
    "                    num_boost_round=50,early_stopping_rounds=10,metrics=\"rmse\", as_pandas=True, seed=123)"
   ]
  },
  {
   "cell_type": "code",
   "execution_count": 26,
   "metadata": {},
   "outputs": [
    {
     "data": {
      "text/html": [
       "<div>\n",
       "<style scoped>\n",
       "    .dataframe tbody tr th:only-of-type {\n",
       "        vertical-align: middle;\n",
       "    }\n",
       "\n",
       "    .dataframe tbody tr th {\n",
       "        vertical-align: top;\n",
       "    }\n",
       "\n",
       "    .dataframe thead th {\n",
       "        text-align: right;\n",
       "    }\n",
       "</style>\n",
       "<table border=\"1\" class=\"dataframe\">\n",
       "  <thead>\n",
       "    <tr style=\"text-align: right;\">\n",
       "      <th></th>\n",
       "      <th>train-rmse-mean</th>\n",
       "      <th>train-rmse-std</th>\n",
       "      <th>test-rmse-mean</th>\n",
       "      <th>test-rmse-std</th>\n",
       "    </tr>\n",
       "  </thead>\n",
       "  <tbody>\n",
       "    <tr>\n",
       "      <th>0</th>\n",
       "      <td>1.563093</td>\n",
       "      <td>0.082086</td>\n",
       "      <td>1.612859</td>\n",
       "      <td>0.178196</td>\n",
       "    </tr>\n",
       "    <tr>\n",
       "      <th>1</th>\n",
       "      <td>1.489386</td>\n",
       "      <td>0.074397</td>\n",
       "      <td>1.574182</td>\n",
       "      <td>0.165979</td>\n",
       "    </tr>\n",
       "    <tr>\n",
       "      <th>2</th>\n",
       "      <td>1.408111</td>\n",
       "      <td>0.072137</td>\n",
       "      <td>1.544139</td>\n",
       "      <td>0.154035</td>\n",
       "    </tr>\n",
       "    <tr>\n",
       "      <th>3</th>\n",
       "      <td>1.334776</td>\n",
       "      <td>0.053532</td>\n",
       "      <td>1.504580</td>\n",
       "      <td>0.159300</td>\n",
       "    </tr>\n",
       "    <tr>\n",
       "      <th>4</th>\n",
       "      <td>1.259020</td>\n",
       "      <td>0.045337</td>\n",
       "      <td>1.498223</td>\n",
       "      <td>0.153546</td>\n",
       "    </tr>\n",
       "  </tbody>\n",
       "</table>\n",
       "</div>"
      ],
      "text/plain": [
       "   train-rmse-mean  train-rmse-std  test-rmse-mean  test-rmse-std\n",
       "0         1.563093        0.082086        1.612859       0.178196\n",
       "1         1.489386        0.074397        1.574182       0.165979\n",
       "2         1.408111        0.072137        1.544139       0.154035\n",
       "3         1.334776        0.053532        1.504580       0.159300\n",
       "4         1.259020        0.045337        1.498223       0.153546"
      ]
     },
     "execution_count": 26,
     "metadata": {},
     "output_type": "execute_result"
    }
   ],
   "source": [
    "cv_results.head()"
   ]
  },
  {
   "cell_type": "code",
   "execution_count": 27,
   "metadata": {},
   "outputs": [
    {
     "name": "stdout",
     "output_type": "stream",
     "text": [
      "13    1.442949\n",
      "14    1.440923\n",
      "15    1.441901\n",
      "16    1.441417\n",
      "17    1.438060\n",
      "Name: test-rmse-mean, dtype: float64\n"
     ]
    }
   ],
   "source": [
    "print((cv_results[\"test-rmse-mean\"]).tail(5))"
   ]
  }
 ],
 "metadata": {
  "kernelspec": {
   "display_name": "Python 3",
   "language": "python",
   "name": "python3"
  },
  "language_info": {
   "codemirror_mode": {
    "name": "ipython",
    "version": 3
   },
   "file_extension": ".py",
   "mimetype": "text/x-python",
   "name": "python",
   "nbconvert_exporter": "python",
   "pygments_lexer": "ipython3",
   "version": "3.7.1"
  }
 },
 "nbformat": 4,
 "nbformat_minor": 2
}
